{
 "cells": [
  {
   "cell_type": "code",
   "execution_count": 1,
   "id": "353aa04c",
   "metadata": {
    "pycharm": {
     "name": "#%%\n"
    }
   },
   "outputs": [],
   "source": [
    "import xgboost as xgb\n",
    "import numpy as np\n",
    "import pickle\n",
    "from joblib import dump, load\n",
    "import pandas as pd"
   ]
  },
  {
   "cell_type": "code",
   "execution_count": null,
   "id": "6326664d",
   "metadata": {
    "pycharm": {
     "name": "#%%\n"
    }
   },
   "outputs": [],
   "source": [
    "# I have binned the age column. So age 0-10 is 0, 10-20 is 10, 20-30 is 20 and so on. The binned values are integers."
   ]
  },
  {
   "cell_type": "code",
   "execution_count": 2,
   "id": "e9e10f5f",
   "metadata": {
    "pycharm": {
     "name": "#%%\n"
    }
   },
   "outputs": [],
   "source": [
    "# col_list=['Number of sexual partners',\n",
    "#  'Num of pregnancies',\n",
    "#  'Smokes',\n",
    "#  'Hormonal Contraceptives',\n",
    "#  'STDs:vulvo-perineal condylomatosis',\n",
    "#  'STDs:genital herpes',\n",
    "#  'STDs:HIV',\n",
    "#  'Hinselmann',\n",
    "#  'Schiller',\n",
    "#  'Citology',\n",
    "#  'Age_bin',\n",
    "#  'Biopsy']\n",
    "\n",
    "# These are the features.\n",
    "model = xgb.XGBClassifier() ## To use a different model just check the sklearn documentation\n",
    "\n",
    "model = load('xgb.joblib') \n",
    "    \n",
    "def inference(model,features):\n",
    "    # features must be a numpy array of dimension (n_samples,feature_length). In our case feature length is 11. Must follow the exact order given in col_list \n",
    "    prediction = model.predict(features)\n",
    "    \n",
    "\n",
    "    return prediction"
   ]
  },
  {
   "cell_type": "code",
   "execution_count": 3,
   "id": "094caeba",
   "metadata": {
    "pycharm": {
     "name": "#%%\n"
    }
   },
   "outputs": [],
   "source": [
    "df = pd.read_csv(\"final_data.csv\")"
   ]
  },
  {
   "cell_type": "code",
   "execution_count": 4,
   "id": "193d3e5b",
   "metadata": {
    "pycharm": {
     "name": "#%%\n"
    }
   },
   "outputs": [],
   "source": [
    "col_list=['Number of sexual partners',\n",
    " 'Num of pregnancies',\n",
    " 'Smokes',\n",
    " 'Hormonal Contraceptives',\n",
    " 'STDs:vulvo-perineal condylomatosis',\n",
    " 'STDs:genital herpes',\n",
    " 'STDs:HIV',\n",
    " 'Hinselmann',\n",
    " 'Schiller',\n",
    " 'Citology',\n",
    " 'Age_bin',\n",
    " 'Biopsy']\n",
    "\n",
    "pruned_df = df[col_list]"
   ]
  },
  {
   "cell_type": "code",
   "execution_count": 5,
   "id": "fce6044c",
   "metadata": {
    "pycharm": {
     "name": "#%%\n"
    }
   },
   "outputs": [],
   "source": [
    "X = pruned_df.drop([\"Biopsy\"],axis=1)\n",
    "y = pruned_df[\"Biopsy\"]"
   ]
  },
  {
   "cell_type": "code",
   "execution_count": 6,
   "id": "ff2d57a1",
   "metadata": {
    "pycharm": {
     "name": "#%%\n"
    }
   },
   "outputs": [],
   "source": [
    "X_numpy = X.to_numpy()"
   ]
  },
  {
   "cell_type": "code",
   "execution_count": 15,
   "id": "9b7d310e",
   "metadata": {},
   "outputs": [
    {
     "data": {
      "text/plain": [
       "array([[ 4.,  1.,  0., ...,  0.,  0., 10.],\n",
       "       [ 1.,  1.,  0., ...,  0.,  0., 10.],\n",
       "       [ 5.,  4.,  1., ...,  0.,  0., 50.],\n",
       "       ...,\n",
       "       [ 2.,  0.,  0., ...,  0.,  1., 20.],\n",
       "       [ 2.,  2.,  0., ...,  0.,  0., 30.],\n",
       "       [ 2.,  1.,  0., ...,  0.,  0., 20.]])"
      ]
     },
     "execution_count": 15,
     "metadata": {},
     "output_type": "execute_result"
    }
   ],
   "source": [
    "X_numpy "
   ]
  },
  {
   "cell_type": "code",
   "execution_count": 7,
   "id": "daa336c9",
   "metadata": {
    "pycharm": {
     "name": "#%%\n"
    }
   },
   "outputs": [
    {
     "data": {
      "text/plain": [
       "array([ 4.,  1.,  0.,  0.,  0.,  0.,  0.,  0.,  0.,  0., 10.])"
      ]
     },
     "execution_count": 7,
     "metadata": {},
     "output_type": "execute_result"
    }
   ],
   "source": [
    "X_numpy[0]"
   ]
  },
  {
   "cell_type": "code",
   "execution_count": 20,
   "id": "d6207934",
   "metadata": {},
   "outputs": [
    {
     "data": {
      "text/plain": [
       "array([ 3.,  6.,  1.,  0.,  0.,  0.,  0.,  1.,  1.,  0., 50.])"
      ]
     },
     "execution_count": 20,
     "metadata": {},
     "output_type": "execute_result"
    }
   ],
   "source": [
    "X_numpy[5]"
   ]
  },
  {
   "cell_type": "code",
   "execution_count": 27,
   "id": "19c49ee1",
   "metadata": {
    "pycharm": {
     "name": "#%%\n"
    }
   },
   "outputs": [
    {
     "data": {
      "text/plain": [
       "array([0, 0, 0, 0, 0])"
      ]
     },
     "execution_count": 27,
     "metadata": {},
     "output_type": "execute_result"
    }
   ],
   "source": [
    "inference(model,X_numpy[:5])"
   ]
  }
 ],
 "metadata": {
  "kernelspec": {
   "display_name": "Python 3.7.9 ('fastapi-env': venv)",
   "language": "python",
   "name": "python3"
  },
  "language_info": {
   "codemirror_mode": {
    "name": "ipython",
    "version": 3
   },
   "file_extension": ".py",
   "mimetype": "text/x-python",
   "name": "python",
   "nbconvert_exporter": "python",
   "pygments_lexer": "ipython3",
   "version": "3.7.9"
  },
  "vscode": {
   "interpreter": {
    "hash": "c2b52b9a768e2c9b0072b27939a25086d42123c2bf481457a83d7d324e0c3291"
   }
  }
 },
 "nbformat": 4,
 "nbformat_minor": 5
}
